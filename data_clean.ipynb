{
 "cells": [
  {
   "cell_type": "markdown",
   "id": "70d32752-0173-4dc6-8d6a-7fad2da805ed",
   "metadata": {
    "tags": []
   },
   "source": [
    "## build factor matrixs"
   ]
  },
  {
   "cell_type": "code",
   "execution_count": 4,
   "id": "cd7e1aca-f898-4376-af5f-7d30c3ec36c1",
   "metadata": {},
   "outputs": [],
   "source": [
    "import os\n",
    "import pandas as pd\n",
    "from tqdm import tqdm\n",
    "\n",
    "from joblib import Parallel, delayed"
   ]
  },
  {
   "cell_type": "code",
   "execution_count": 2,
   "id": "e73c826b-288d-46c4-8ced-1e4f7a8e1056",
   "metadata": {},
   "outputs": [],
   "source": [
    "df = pd.read_csv('/data/QAE/GKX_20201231.csv')"
   ]
  },
  {
   "cell_type": "code",
   "execution_count": 5,
   "id": "618bb3a7-9603-476d-824a-72e92d915c03",
   "metadata": {},
   "outputs": [],
   "source": [
    "factor_list = ['absacc','acc','aeavol' ,'age' ,'agr' ,'baspread' ,'beta' ,'betasq',\n",
    "               'bm','bm_ia' ,'cash','cashdebt','cashpr','cfp','cfp_ia' ,'chatoia','chcsho' ,'chempia',\n",
    "               'chinv','chmom' ,'chpmia' ,'chtx','cinvest','convind' ,'currat' ,'depr' ,'divi' ,\n",
    "               'divo','dolvol' ,'dy','ear','egr','ep','gma','grcapx','grltnoa','herf','hire',\n",
    "               'idiovol','ill','indmom','invest','lev','lgr','maxret','mom12m','mom1m','mom36m',\n",
    "               'mom6m','ms','mvel1','mve_ia','nincr','operprof','orgcap','pchcapx_ia','pchcurrat',\n",
    "               'pchdepr','pchgm_pchsale','pchquick','pchsale_pchinvt','pchsale_pchrect', 'pchsale_pchxsga', \n",
    "               'pchsaleinv', 'pctacc', 'pricedelay', 'ps', 'quick', 'rd', 'rd_mve', 'rd_sale', \n",
    "               'realestate', 'retvol', 'roaq', 'roavol', 'roeq', 'roic', 'rsup', 'salecash', \n",
    "               'saleinv', 'salerec', 'secured', 'securedind', 'sgr', 'sin', 'sp', 'std_dolvol', \n",
    "               'std_turn', 'stdacc', 'stdcf', 'tang', 'tb', 'turn', 'zerotrade', 'RET']"
   ]
  },
  {
   "cell_type": "code",
   "execution_count": 6,
   "id": "af01a3a0-ea2c-4a96-86da-c25db910ff68",
   "metadata": {},
   "outputs": [],
   "source": [
    "save_path = '/data/QAE/xiu_factor_matrix_with_na'"
   ]
  },
  {
   "cell_type": "code",
   "execution_count": 7,
   "id": "8bea91dc-7eeb-416d-985e-a0b793c5d338",
   "metadata": {},
   "outputs": [],
   "source": [
    "if not os.path.exists(save_path):\n",
    "    os.mkdir(save_path)"
   ]
  },
  {
   "cell_type": "code",
   "execution_count": 9,
   "id": "628cf8f7-67fe-4882-a2dc-18bece841c89",
   "metadata": {},
   "outputs": [],
   "source": [
    "def re_matrix(factor, df, save_path):\n",
    "    permno_list = df['permno'].unique()\n",
    "    permno_list.sort()\n",
    "    date_list = df['DATE'].unique()\n",
    "    date_list = date_list[(date_list >= 19570000) * (date_list <= 20161231)]\n",
    "    date_list.sort()\n",
    "    \n",
    "    df_matrix = pd.DataFrame()\n",
    "    df_matrix['date'] = date_list\n",
    "    df_matrix.set_index('date', inplace = True)\n",
    "    for permno in permno_list:\n",
    "        df_ = df.loc[df['permno'] == permno]\n",
    "        df_.set_index('DATE', inplace = True)\n",
    "        df_.sort_index(inplace = True)\n",
    "        df_matrix[permno] = df_[factor]\n",
    "    # return df_matrix\n",
    "    df_matrix.to_csv(f'{save_path}/{factor}.csv')"
   ]
  },
  {
   "cell_type": "code",
   "execution_count": 7,
   "id": "6b64f13b-1480-4035-872d-434a3bd955dd",
   "metadata": {},
   "outputs": [
    {
     "name": "stderr",
     "output_type": "stream",
     "text": [
      "100%|██████████| 94/94 [22:30<00:00, 14.37s/it]\n"
     ]
    }
   ],
   "source": [
    "result_stock = Parallel(n_jobs = 10)(delayed(re_matrix)\n",
    "                                     (factor, df, save_path) for factor in tqdm(factor_list))"
   ]
  },
  {
   "cell_type": "markdown",
   "id": "73726ad9-53d9-493e-b4a9-17798b895cd2",
   "metadata": {
    "tags": []
   },
   "source": [
    "## fill the missing values in factor matrixs"
   ]
  },
  {
   "cell_type": "code",
   "execution_count": 11,
   "id": "1071143f-8e3c-4be4-9e8c-20fc44c14222",
   "metadata": {},
   "outputs": [],
   "source": [
    "import pandas as pd\n",
    "import numpy as np\n",
    "import os\n",
    "from tqdm import tqdm\n",
    "\n",
    "from joblib import Parallel, delayed"
   ]
  },
  {
   "cell_type": "code",
   "execution_count": 12,
   "id": "8fb6980a-7a73-442a-bf77-5f969f122a4a",
   "metadata": {},
   "outputs": [],
   "source": [
    "load_path = '/data/QAE/xiu_factor_matrix_with_na'\n",
    "save_path = '/data/QAE/xiu_factor_matrix'\n",
    "if not os.path.exists(save_path):\n",
    "    os.mkdir(save_path)"
   ]
  },
  {
   "cell_type": "code",
   "execution_count": 13,
   "id": "7fd20472-04a0-4fc8-9b46-fa691dfcafd3",
   "metadata": {},
   "outputs": [],
   "source": [
    "factor_list = ['absacc','acc','aeavol' ,'age' ,'agr' ,'baspread' ,'beta' ,'betasq',\n",
    "               'bm','bm_ia' ,'cash','cashdebt','cashpr','cfp','cfp_ia' ,'chatoia','chcsho' ,'chempia',\n",
    "               'chinv','chmom' ,'chpmia' ,'chtx','cinvest','convind' ,'currat' ,'depr' ,'divi' ,\n",
    "               'divo','dolvol' ,'dy','ear','egr','ep','gma','grcapx','grltnoa','herf','hire',\n",
    "               'idiovol','ill','indmom','invest','lev','lgr','maxret','mom12m','mom1m','mom36m',\n",
    "               'mom6m','ms','mvel1','mve_ia','nincr','operprof','orgcap','pchcapx_ia','pchcurrat',\n",
    "               'pchdepr','pchgm_pchsale','pchquick','pchsale_pchinvt','pchsale_pchrect', 'pchsale_pchxsga', \n",
    "               'pchsaleinv', 'pctacc', 'pricedelay', 'ps', 'quick', 'rd', 'rd_mve', 'rd_sale', \n",
    "               'realestate', 'retvol', 'roaq', 'roavol', 'roeq', 'roic', 'rsup', 'salecash', \n",
    "               'saleinv', 'salerec', 'secured', 'securedind', 'sgr', 'sin', 'sp', 'std_dolvol', \n",
    "               'std_turn', 'stdacc', 'stdcf', 'tang', 'tb', 'turn', 'zerotrade', 'RET']"
   ]
  },
  {
   "cell_type": "code",
   "execution_count": 14,
   "id": "2d6fccdb-10dc-4bca-9cf3-4dcb34d373dd",
   "metadata": {},
   "outputs": [],
   "source": [
    "def fill_na(factor_name, load_path, save_path):\n",
    "    df = pd.read_csv(f'{load_path}/{factor_name}.csv')\n",
    "    df.set_index('date', inplace = True)\n",
    "    df[(df == np.inf)] = np.nan\n",
    "    df[(df == -np.inf)] = np.nan\n",
    "    for j in range(df.shape[0]):\n",
    "        a = df.iloc[j, :]\n",
    "        a[a.isna()] = a.median()\n",
    "        df.iloc[j, :] = a\n",
    "    df.fillna(method = 'ffill', inplace = True, axis = 0)\n",
    "    df.fillna(method = 'bfill', inplace = True, axis = 0)\n",
    "    # return df\n",
    "    df.to_csv(f'{save_path}/{factor_name}.csv')"
   ]
  },
  {
   "cell_type": "code",
   "execution_count": 5,
   "id": "7142d52d-b77a-4456-b404-d1c65e9027ac",
   "metadata": {},
   "outputs": [
    {
     "name": "stderr",
     "output_type": "stream",
     "text": [
      "100%|██████████| 94/94 [02:31<00:00,  1.61s/it] \n"
     ]
    }
   ],
   "source": [
    "c = Parallel(n_jobs = 10)(delayed(fill_na)(factor_name, load_path, save_path) for factor_name in tqdm(factor_list))"
   ]
  },
  {
   "cell_type": "code",
   "execution_count": 7,
   "id": "0ee4054b-14eb-4fc1-9d85-340caa897e6a",
   "metadata": {},
   "outputs": [],
   "source": [
    "def test_na(factor_name, load_path):\n",
    "    df = pd.read_csv(f'{load_path}/{factor_name}.csv')\n",
    "    return df.isna().sum().sum()"
   ]
  },
  {
   "cell_type": "code",
   "execution_count": 8,
   "id": "1b9b87c7-5def-40e3-9587-db30ee6e1142",
   "metadata": {},
   "outputs": [
    {
     "name": "stderr",
     "output_type": "stream",
     "text": [
      "100%|██████████| 94/94 [01:07<00:00,  1.40it/s]\n"
     ]
    }
   ],
   "source": [
    "c = Parallel(n_jobs = 10)(delayed(test_na)(factor_name, save_path) for factor_name in tqdm(factor_list))"
   ]
  },
  {
   "cell_type": "code",
   "execution_count": 15,
   "id": "36aef3d3-6daa-40bd-9a45-517abe23ffef",
   "metadata": {},
   "outputs": [],
   "source": [
    "fill_na('RET', load_path, save_path)"
   ]
  }
 ],
 "metadata": {
  "kernelspec": {
   "display_name": "QAE",
   "language": "python",
   "name": "qae"
  },
  "language_info": {
   "codemirror_mode": {
    "name": "ipython",
    "version": 3
   },
   "file_extension": ".py",
   "mimetype": "text/x-python",
   "name": "python",
   "nbconvert_exporter": "python",
   "pygments_lexer": "ipython3",
   "version": "3.9.10"
  }
 },
 "nbformat": 4,
 "nbformat_minor": 5
}
