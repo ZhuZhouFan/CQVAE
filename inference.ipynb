{
 "cells": [
  {
   "cell_type": "code",
   "execution_count": null,
   "id": "3a628aee-482c-4aa1-aeb7-f4d2c8c678c2",
   "metadata": {},
   "outputs": [],
   "source": [
    "import torch\n",
    "import pandas as pd\n",
    "import numpy as np\n",
    "from tqdm import tqdm\n",
    "\n",
    "from Beta_VAE import VAE_Factor_Inference, QVAE_Factor_Inference\n",
    "from AE import AE_Factor_Inference, QAE_Factor_Inference"
   ]
  },
  {
   "cell_type": "code",
   "execution_count": null,
   "id": "f2762040-e39f-4dba-af6c-123d8d683d21",
   "metadata": {},
   "outputs": [],
   "source": [
    "def load_mat(factor_name, period, load_path):\n",
    "    df = pd.read_csv(f'{load_path}/{factor_name}.csv', index_col = 'date')\n",
    "    df = df.loc[period[0]:period[1], :]\n",
    "    return df"
   ]
  },
  {
   "cell_type": "code",
   "execution_count": null,
   "id": "fd3a20f2-8b4e-4e8f-bd77-7f52c6c17809",
   "metadata": {},
   "outputs": [],
   "source": [
    "def obtain_permno_list(factor_name, period, load_path, na_percent = 0.75):\n",
    "    df = load_mat(factor_name, period, load_path)\n",
    "    indice = (df.isna().sum(axis = 0) < df.shape[0] * na_percent)\n",
    "    permno_list = indice.loc[indice].index.values\n",
    "    return permno_list"
   ]
  },
  {
   "cell_type": "code",
   "execution_count": null,
   "id": "4d0d708b-d882-4400-8d1e-f6f68ccd9b32",
   "metadata": {},
   "outputs": [],
   "source": [
    "def rank_normalize_C(C):\n",
    "    for j in range(C.shape[1]):\n",
    "        tem = C[:, j, :]\n",
    "        tem_ = pd.DataFrame(tem)\n",
    "        C[:, j, :] = (2 * tem_.rank()/(tem_.shape[0] + 1) - 1).values\n",
    "    return C"
   ]
  },
  {
   "cell_type": "code",
   "execution_count": null,
   "id": "a6255091-c22c-413d-bc84-cdf1b3171299",
   "metadata": {},
   "outputs": [],
   "source": [
    "def mean_matrix_dict(dic):\n",
    "    matrix = 0\n",
    "    for j in dic.keys():\n",
    "        matrix += dic[j]\n",
    "    matrix = matrix/len(dic.keys())\n",
    "    return matrix"
   ]
  },
  {
   "cell_type": "code",
   "execution_count": null,
   "id": "58712e44-7777-4180-9343-b43beec24377",
   "metadata": {},
   "outputs": [],
   "source": [
    "def fill_matrix(matrix, permno_list):\n",
    "    trade_index = matrix.index\n",
    "    matrix_filled = pd.DataFrame(columns = ['date'] + permno_list)\n",
    "    matrix_filled['date'] = trade_index\n",
    "    matrix_filled.set_index('date', inplace = True)\n",
    "    matrix_filled[matrix.columns] = matrix\n",
    "    return matrix_filled"
   ]
  },
  {
   "cell_type": "code",
   "execution_count": null,
   "id": "60616607-d224-4d34-90b5-2f46c4c9e93b",
   "metadata": {},
   "outputs": [],
   "source": [
    "factor_matrix_path = '/data/QAE/xiu_factor_matrix'\n",
    "f_hidden_dim = 64\n",
    "bandwidth = 10\n",
    "factor_list = ['absacc','acc','aeavol' ,'age' ,'agr' ,'baspread' ,'beta' ,'betasq',\n",
    "               'bm','bm_ia' ,'cash','cashdebt','cashpr','cfp','cfp_ia' ,'chatoia','chcsho' ,'chempia',\n",
    "               'chinv','chmom' ,'chpmia' ,'chtx','cinvest','convind' ,'currat' ,'depr' ,'divi' ,\n",
    "               'divo','dolvol' ,'dy','ear','egr','ep','gma','grcapx','grltnoa','herf','hire',\n",
    "               'idiovol','ill','indmom','invest','lev','lgr','maxret','mom12m','mom1m','mom36m',\n",
    "               'mom6m','ms','mvel1','mve_ia','nincr','operprof','orgcap','pchcapx_ia','pchcurrat',\n",
    "               'pchdepr','pchgm_pchsale','pchquick','pchsale_pchinvt','pchsale_pchrect', 'pchsale_pchxsga', \n",
    "               'pchsaleinv', 'pctacc', 'pricedelay', 'ps', 'quick', 'rd', 'rd_mve', 'rd_sale', \n",
    "               'realestate', 'retvol', 'roaq', 'roavol', 'roeq', 'roic', 'rsup', 'salecash', \n",
    "               'saleinv', 'salerec', 'secured', 'securedind', 'sgr', 'sin', 'sp', 'std_dolvol', \n",
    "               'std_turn', 'stdacc', 'stdcf', 'tang', 'tb', 'turn', 'zerotrade']"
   ]
  },
  {
   "cell_type": "code",
   "execution_count": null,
   "id": "7e77590f-252d-405e-a489-5068ef46ded4",
   "metadata": {},
   "outputs": [],
   "source": [
    "full_permno_list = pd.read_csv(f'{factor_matrix_path}/absacc.csv', index_col = 'date').columns.to_list()"
   ]
  },
  {
   "cell_type": "code",
   "execution_count": 1,
   "id": "e13191e2",
   "metadata": {},
   "outputs": [],
   "source": [
    "time_set = []\n",
    "for i in range(1957, 2018, 5):\n",
    "    time_set.append(int(str(i)+'0101'))\n",
    "period_set = []\n",
    "for i in range(len(time_set) - 6):\n",
    "    period_set.append((time_set[i], time_set[i + 6]))\n",
    "period_set = period_set[:-1]\n",
    "log_set = []\n",
    "for i in range(len(time_set) - 1):\n",
    "    log_set.append((time_set[i], time_set[i + 1]))\n",
    "log_set = log_set[6:]"
   ]
  },
  {
   "cell_type": "code",
   "execution_count": 2,
   "id": "b4958099",
   "metadata": {},
   "outputs": [
    {
     "data": {
      "text/plain": [
       "[(19570101, 19870101),\n",
       " (19620101, 19920101),\n",
       " (19670101, 19970101),\n",
       " (19720101, 20020101),\n",
       " (19770101, 20070101),\n",
       " (19820101, 20120101)]"
      ]
     },
     "execution_count": 2,
     "metadata": {},
     "output_type": "execute_result"
    }
   ],
   "source": [
    "period_set"
   ]
  },
  {
   "cell_type": "code",
   "execution_count": 3,
   "id": "5355188b",
   "metadata": {},
   "outputs": [
    {
     "data": {
      "text/plain": [
       "[(19870101, 19920101),\n",
       " (19920101, 19970101),\n",
       " (19970101, 20020101),\n",
       " (20020101, 20070101),\n",
       " (20070101, 20120101),\n",
       " (20120101, 20170101)]"
      ]
     },
     "execution_count": 3,
     "metadata": {},
     "output_type": "execute_result"
    }
   ],
   "source": [
    "log_set"
   ]
  },
  {
   "cell_type": "markdown",
   "id": "3cb5b8ef",
   "metadata": {},
   "source": [
    "## AE"
   ]
  },
  {
   "cell_type": "code",
   "execution_count": null,
   "id": "700c87dc-260d-4526-a25f-41c7d956e622",
   "metadata": {},
   "outputs": [],
   "source": [
    "torch.cuda.set_device(2)\n",
    "K = 6\n",
    "y_total_dict = dict.fromkeys(log_set, 0)\n",
    "y_pred_dict = dict.fromkeys(log_set, 0)"
   ]
  },
  {
   "cell_type": "code",
   "execution_count": null,
   "id": "9bbbc646-d24b-4466-aacd-f70d86cbca65",
   "metadata": {},
   "outputs": [],
   "source": [
    "infer_net = AE_Factor_Inference(factor_matrix_path = factor_matrix_path,\n",
    "                                model_path = 'logs_real_data/AE/K6',\n",
    "                                K = K,\n",
    "                                f_hidden_dim = f_hidden_dim,\n",
    "                                bandwidth = bandwidth,\n",
    "                                factor_list = factor_list)"
   ]
  },
  {
   "cell_type": "code",
   "execution_count": null,
   "id": "95d7f922-df8d-4a4e-ac40-66e88a628195",
   "metadata": {},
   "outputs": [],
   "source": [
    "for i in tqdm(range(len(log_set)), desc = 'inference'):\n",
    "    log_period = log_set[i]\n",
    "    train_period = period_set[i]\n",
    "    period_permno_list = obtain_permno_list('RET', train_period, '/data/QAE/xiu_factor_matrix_with_na')\n",
    "    y_totals, y_preds = infer_net.inference(log_period, period_permno_list)\n",
    "    y_total = mean_matrix_dict(y_totals)\n",
    "    y_pred = mean_matrix_dict(y_preds)\n",
    "    y_total = fill_matrix(y_total, full_permno_list)\n",
    "    y_pred = fill_matrix(y_pred, full_permno_list)\n",
    "    y_total_dict[log_period] = y_total\n",
    "    y_pred_dict[log_period] = y_pred"
   ]
  },
  {
   "cell_type": "code",
   "execution_count": null,
   "id": "ec2f6934-cff2-4568-9290-d074f5998238",
   "metadata": {},
   "outputs": [],
   "source": [
    "r_total = pd.concat(list(y_total_dict.values()), axis = 0)"
   ]
  },
  {
   "cell_type": "code",
   "execution_count": null,
   "id": "a051a20a-b7b0-456e-a1d1-3dce0d64d655",
   "metadata": {},
   "outputs": [],
   "source": [
    "r_true = pd.read_csv('/data/QAE/xiu_factor_matrix_with_na/RET.csv', index_col = 'date').loc[r_total.index, :]"
   ]
  },
  {
   "cell_type": "code",
   "execution_count": null,
   "id": "d7df1bc4-995f-4b11-b2d6-928f1b6105fe",
   "metadata": {},
   "outputs": [],
   "source": [
    "R_total = 1 - np.sum(np.sum(np.power(r_true - r_total, 2))) / np.sum(np.sum(np.power(r_true[r_total.notna()], 2)))"
   ]
  },
  {
   "cell_type": "code",
   "execution_count": null,
   "id": "3c7ff443-ef3f-48f6-b61e-32a7ec1af45a",
   "metadata": {},
   "outputs": [],
   "source": [
    "R_total"
   ]
  },
  {
   "cell_type": "code",
   "execution_count": null,
   "id": "c0a1b636-c486-4e42-86e8-bb20b48b55c5",
   "metadata": {},
   "outputs": [],
   "source": [
    "r_pred = pd.concat(list(y_pred_dict.values()), axis = 0)"
   ]
  },
  {
   "cell_type": "code",
   "execution_count": null,
   "id": "4cf7d71c-573d-49dd-bdba-217867cb48ab",
   "metadata": {},
   "outputs": [],
   "source": [
    "R_pred = 1 - np.sum(np.sum(np.power(r_true - r_pred, 2))) / np.sum(np.sum(np.power(r_true[r_pred.notna()], 2)))"
   ]
  },
  {
   "cell_type": "code",
   "execution_count": null,
   "id": "248db659-9908-43fd-9b51-33bfc38d38f7",
   "metadata": {},
   "outputs": [],
   "source": [
    "R_pred"
   ]
  },
  {
   "cell_type": "markdown",
   "id": "36887088",
   "metadata": {},
   "source": [
    "# VAE"
   ]
  },
  {
   "cell_type": "code",
   "execution_count": null,
   "id": "700c87dc-260d-4526-a25f-41c7d956e622",
   "metadata": {},
   "outputs": [],
   "source": [
    "torch.cuda.set_device(2)\n",
    "K = 6\n",
    "y_total_dict = dict.fromkeys(log_set, 0)\n",
    "y_pred_dict = dict.fromkeys(log_set, 0)"
   ]
  },
  {
   "cell_type": "code",
   "execution_count": null,
   "id": "9bbbc646-d24b-4466-aacd-f70d86cbca65",
   "metadata": {},
   "outputs": [],
   "source": [
    "infer_net = VAE_Factor_Inference(factor_matrix_path = factor_matrix_path,\n",
    "                                model_path = 'logs_real_data/VAE/K6',\n",
    "                                K = K,\n",
    "                                f_hidden_dim = f_hidden_dim,\n",
    "                                bandwidth = bandwidth,\n",
    "                                factor_list = factor_list)"
   ]
  },
  {
   "cell_type": "code",
   "execution_count": null,
   "id": "95d7f922-df8d-4a4e-ac40-66e88a628195",
   "metadata": {},
   "outputs": [],
   "source": [
    "for i in tqdm(range(len(log_set)), desc = 'inference'):\n",
    "    log_period = log_set[i]\n",
    "    train_period = period_set[i]\n",
    "    period_permno_list = obtain_permno_list('RET', train_period, '/data/QAE/xiu_factor_matrix_with_na')\n",
    "    y_totals, y_preds = infer_net.inference(log_period, period_permno_list)\n",
    "    y_total = mean_matrix_dict(y_totals)\n",
    "    y_pred = mean_matrix_dict(y_preds)\n",
    "    y_total = fill_matrix(y_total, full_permno_list)\n",
    "    y_pred = fill_matrix(y_pred, full_permno_list)\n",
    "    y_total_dict[log_period] = y_total\n",
    "    y_pred_dict[log_period] = y_pred"
   ]
  },
  {
   "cell_type": "code",
   "execution_count": null,
   "id": "ec2f6934-cff2-4568-9290-d074f5998238",
   "metadata": {},
   "outputs": [],
   "source": [
    "r_total = pd.concat(list(y_total_dict.values()), axis = 0)"
   ]
  },
  {
   "cell_type": "code",
   "execution_count": null,
   "id": "a051a20a-b7b0-456e-a1d1-3dce0d64d655",
   "metadata": {},
   "outputs": [],
   "source": [
    "r_true = pd.read_csv('/data/QAE/xiu_factor_matrix_with_na/RET.csv', index_col = 'date').loc[r_total.index, :]"
   ]
  },
  {
   "cell_type": "code",
   "execution_count": null,
   "id": "d7df1bc4-995f-4b11-b2d6-928f1b6105fe",
   "metadata": {},
   "outputs": [],
   "source": [
    "R_total = 1 - np.sum(np.sum(np.power(r_true - r_total, 2))) / np.sum(np.sum(np.power(r_true[r_total.notna()], 2)))"
   ]
  },
  {
   "cell_type": "code",
   "execution_count": null,
   "id": "3c7ff443-ef3f-48f6-b61e-32a7ec1af45a",
   "metadata": {},
   "outputs": [],
   "source": [
    "R_total"
   ]
  },
  {
   "cell_type": "code",
   "execution_count": null,
   "id": "8602a711",
   "metadata": {},
   "outputs": [],
   "source": [
    "r_total.to_csv('y_total/character/VAE_total.csv')"
   ]
  },
  {
   "cell_type": "code",
   "execution_count": null,
   "id": "c0a1b636-c486-4e42-86e8-bb20b48b55c5",
   "metadata": {},
   "outputs": [],
   "source": [
    "r_pred = pd.concat(list(y_pred_dict.values()), axis = 0)"
   ]
  },
  {
   "cell_type": "code",
   "execution_count": null,
   "id": "4cf7d71c-573d-49dd-bdba-217867cb48ab",
   "metadata": {},
   "outputs": [],
   "source": [
    "R_pred = 1 - np.sum(np.sum(np.power(r_true - r_pred, 2))) / np.sum(np.sum(np.power(r_true[r_pred.notna()], 2)))"
   ]
  },
  {
   "cell_type": "code",
   "execution_count": null,
   "id": "248db659-9908-43fd-9b51-33bfc38d38f7",
   "metadata": {},
   "outputs": [],
   "source": [
    "R_pred"
   ]
  },
  {
   "cell_type": "markdown",
   "id": "1b5e5d8d",
   "metadata": {},
   "source": [
    "## QAE"
   ]
  },
  {
   "cell_type": "code",
   "execution_count": null,
   "id": "700c87dc-260d-4526-a25f-41c7d956e622",
   "metadata": {},
   "outputs": [],
   "source": [
    "torch.cuda.set_device(2)\n",
    "K = 3\n",
    "y_total_dict = dict.fromkeys(log_set, 0)\n",
    "y_pred_dict = dict.fromkeys(log_set, 0)"
   ]
  },
  {
   "cell_type": "code",
   "execution_count": null,
   "id": "9bbbc646-d24b-4466-aacd-f70d86cbca65",
   "metadata": {},
   "outputs": [],
   "source": [
    "infer_net = QAE_Factor_Inference(factor_matrix_path = factor_matrix_path,\n",
    "                                model_path = 'logs_real_data/QAE/K3',\n",
    "                                K = K,\n",
    "                                f_hidden_dim = f_hidden_dim,\n",
    "                                bandwidth = bandwidth,\n",
    "                                factor_list = factor_list)"
   ]
  },
  {
   "cell_type": "code",
   "execution_count": null,
   "id": "95d7f922-df8d-4a4e-ac40-66e88a628195",
   "metadata": {},
   "outputs": [],
   "source": [
    "for i in tqdm(range(len(log_set)), desc = 'inference'):\n",
    "    log_period = log_set[i]\n",
    "    train_period = period_set[i]\n",
    "    period_permno_list = obtain_permno_list('RET', train_period, '/data/QAE/xiu_factor_matrix_with_na')\n",
    "    y_totals, y_preds = infer_net.inference(log_period, period_permno_list)\n",
    "    y_total = mean_matrix_dict(y_totals)\n",
    "    y_pred = mean_matrix_dict(y_preds)\n",
    "    y_total = fill_matrix(y_total, full_permno_list)\n",
    "    y_pred = fill_matrix(y_pred, full_permno_list)\n",
    "    y_total_dict[log_period] = y_total\n",
    "    y_pred_dict[log_period] = y_pred"
   ]
  },
  {
   "cell_type": "code",
   "execution_count": null,
   "id": "ec2f6934-cff2-4568-9290-d074f5998238",
   "metadata": {},
   "outputs": [],
   "source": [
    "r_total = pd.concat(list(y_total_dict.values()), axis = 0)"
   ]
  },
  {
   "cell_type": "code",
   "execution_count": null,
   "id": "a051a20a-b7b0-456e-a1d1-3dce0d64d655",
   "metadata": {},
   "outputs": [],
   "source": [
    "r_true = pd.read_csv('/data/QAE/xiu_factor_matrix_with_na/RET.csv', index_col = 'date').loc[r_total.index, :]"
   ]
  },
  {
   "cell_type": "code",
   "execution_count": null,
   "id": "d7df1bc4-995f-4b11-b2d6-928f1b6105fe",
   "metadata": {},
   "outputs": [],
   "source": [
    "R_total = 1 - np.sum(np.sum(np.power(r_true - r_total, 2))) / np.sum(np.sum(np.power(r_true[r_total.notna()], 2)))"
   ]
  },
  {
   "cell_type": "code",
   "execution_count": null,
   "id": "3c7ff443-ef3f-48f6-b61e-32a7ec1af45a",
   "metadata": {},
   "outputs": [],
   "source": [
    "R_total"
   ]
  },
  {
   "cell_type": "code",
   "execution_count": null,
   "id": "c0a1b636-c486-4e42-86e8-bb20b48b55c5",
   "metadata": {},
   "outputs": [],
   "source": [
    "r_pred = pd.concat(list(y_pred_dict.values()), axis = 0)"
   ]
  },
  {
   "cell_type": "code",
   "execution_count": null,
   "id": "4cf7d71c-573d-49dd-bdba-217867cb48ab",
   "metadata": {},
   "outputs": [],
   "source": [
    "R_pred = 1 - np.sum(np.sum(np.power(r_true - r_pred, 2))) / np.sum(np.sum(np.power(r_true[r_pred.notna()], 2)))"
   ]
  },
  {
   "cell_type": "code",
   "execution_count": null,
   "id": "248db659-9908-43fd-9b51-33bfc38d38f7",
   "metadata": {},
   "outputs": [],
   "source": [
    "R_pred"
   ]
  },
  {
   "cell_type": "markdown",
   "id": "8e788495",
   "metadata": {},
   "source": [
    "## QVAE"
   ]
  },
  {
   "cell_type": "code",
   "execution_count": null,
   "id": "700c87dc-260d-4526-a25f-41c7d956e622",
   "metadata": {},
   "outputs": [],
   "source": [
    "torch.cuda.set_device(2)\n",
    "K = 6\n",
    "y_total_dict = dict.fromkeys(log_set, 0)\n",
    "y_pred_dict = dict.fromkeys(log_set, 0)"
   ]
  },
  {
   "cell_type": "code",
   "execution_count": null,
   "id": "9bbbc646-d24b-4466-aacd-f70d86cbca65",
   "metadata": {},
   "outputs": [],
   "source": [
    "infer_net = QVAE_Factor_Inference(factor_matrix_path = factor_matrix_path,\n",
    "                                model_path = 'logs_real_data/QVAE/K6',\n",
    "                                K = K,\n",
    "                                f_hidden_dim = f_hidden_dim,\n",
    "                                bandwidth = bandwidth,\n",
    "                                factor_list = factor_list)"
   ]
  },
  {
   "cell_type": "code",
   "execution_count": null,
   "id": "95d7f922-df8d-4a4e-ac40-66e88a628195",
   "metadata": {},
   "outputs": [],
   "source": [
    "for i in tqdm(range(len(log_set)), desc = 'inference'):\n",
    "    log_period = log_set[i]\n",
    "    train_period = period_set[i]\n",
    "    period_permno_list = obtain_permno_list('RET', train_period, '/data/QAE/xiu_factor_matrix_with_na')\n",
    "    y_totals, y_preds = infer_net.inference(log_period, period_permno_list)\n",
    "    y_total = mean_matrix_dict(y_totals)\n",
    "    y_pred = mean_matrix_dict(y_preds)\n",
    "    y_total = fill_matrix(y_total, full_permno_list)\n",
    "    y_pred = fill_matrix(y_pred, full_permno_list)\n",
    "    y_total_dict[log_period] = y_total\n",
    "    y_pred_dict[log_period] = y_pred"
   ]
  },
  {
   "cell_type": "code",
   "execution_count": null,
   "id": "ec2f6934-cff2-4568-9290-d074f5998238",
   "metadata": {},
   "outputs": [],
   "source": [
    "r_total = pd.concat(list(y_total_dict.values()), axis = 0)"
   ]
  },
  {
   "cell_type": "code",
   "execution_count": null,
   "id": "a051a20a-b7b0-456e-a1d1-3dce0d64d655",
   "metadata": {},
   "outputs": [],
   "source": [
    "r_true = pd.read_csv('/data/QAE/xiu_factor_matrix_with_na/RET.csv', index_col = 'date').loc[r_total.index, :]"
   ]
  },
  {
   "cell_type": "code",
   "execution_count": null,
   "id": "d7df1bc4-995f-4b11-b2d6-928f1b6105fe",
   "metadata": {},
   "outputs": [],
   "source": [
    "R_total = 1 - np.sum(np.sum(np.power(r_true - r_total, 2))) / np.sum(np.sum(np.power(r_true[r_total.notna()], 2)))"
   ]
  },
  {
   "cell_type": "code",
   "execution_count": null,
   "id": "3c7ff443-ef3f-48f6-b61e-32a7ec1af45a",
   "metadata": {},
   "outputs": [],
   "source": [
    "R_total"
   ]
  },
  {
   "cell_type": "code",
   "execution_count": null,
   "id": "d8cf6824",
   "metadata": {},
   "outputs": [],
   "source": [
    "r_total.to_csv('y_total/character/QVAE_total.csv')"
   ]
  },
  {
   "cell_type": "code",
   "execution_count": null,
   "id": "c0a1b636-c486-4e42-86e8-bb20b48b55c5",
   "metadata": {},
   "outputs": [],
   "source": [
    "r_pred = pd.concat(list(y_pred_dict.values()), axis = 0)"
   ]
  },
  {
   "cell_type": "code",
   "execution_count": null,
   "id": "4cf7d71c-573d-49dd-bdba-217867cb48ab",
   "metadata": {},
   "outputs": [],
   "source": [
    "R_pred = 1 - np.sum(np.sum(np.power(r_true - r_pred, 2))) / np.sum(np.sum(np.power(r_true[r_pred.notna()], 2)))"
   ]
  },
  {
   "cell_type": "code",
   "execution_count": null,
   "id": "248db659-9908-43fd-9b51-33bfc38d38f7",
   "metadata": {},
   "outputs": [],
   "source": [
    "R_pred"
   ]
  }
 ],
 "metadata": {
  "kernelspec": {
   "display_name": "QAE",
   "language": "python",
   "name": "qae"
  },
  "language_info": {
   "codemirror_mode": {
    "name": "ipython",
    "version": 3
   },
   "file_extension": ".py",
   "mimetype": "text/x-python",
   "name": "python",
   "nbconvert_exporter": "python",
   "pygments_lexer": "ipython3",
   "version": "3.9.10"
  }
 },
 "nbformat": 4,
 "nbformat_minor": 5
}
