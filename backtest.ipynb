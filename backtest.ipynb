{
 "cells": [
  {
   "cell_type": "code",
   "execution_count": null,
   "id": "88451bd8-9b35-4fc3-962d-722f2d0f4940",
   "metadata": {},
   "outputs": [],
   "source": [
    "import pandas as pd\n",
    "import numpy as np\n",
    "import matplotlib.pyplot as plt\n",
    "from backtest_it import backtest_it"
   ]
  },
  {
   "cell_type": "code",
   "execution_count": 3,
   "id": "96f0432a-1c4f-49fd-b82b-b37527b3d14b",
   "metadata": {},
   "outputs": [],
   "source": [
    "r_true = pd.read_csv('/data/QAE/xiu_factor_matrix_with_na/RET.csv', index_col = 'date')"
   ]
  },
  {
   "cell_type": "code",
   "execution_count": 4,
   "id": "150c5cf1-9e4d-4364-9c7c-b39efc163def",
   "metadata": {},
   "outputs": [],
   "source": [
    "price_mat = (1 + r_true).cumprod()"
   ]
  },
  {
   "cell_type": "code",
   "execution_count": 5,
   "id": "381ef4d2-6c4c-4d87-9f5e-bb2496652a70",
   "metadata": {},
   "outputs": [],
   "source": [
    "for i in range(1, 7):\n",
    "    file_name = f'y_pred/AE/K{i}'\n",
    "    factor_mat = pd.read_csv(f'{file_name}.csv', index_col = 'date')\n",
    "    price_mat = price_mat.loc[factor_mat.index, :]\n",
    "    df = backtest_it(price_mat, factor_mat.shift(-1), 19871130, 20161230, 1, 0)\n",
    "    df['date'] = pd.to_datetime(df.index, format = '%Y%m%d')\n",
    "    df.set_index('date', inplace = True)\n",
    "    df.to_csv(f'{file_name}_backtest.csv')"
   ]
  },
  {
   "cell_type": "code",
   "execution_count": 6,
   "id": "9807e8a8-bcc6-4adb-8450-8f07b200651d",
   "metadata": {},
   "outputs": [],
   "source": [
    "for i in range(1, 7):\n",
    "    file_name = f'y_pred/VAE/K{i}'\n",
    "    factor_mat = pd.read_csv(f'{file_name}.csv', index_col = 'date')\n",
    "    price_mat = price_mat.loc[factor_mat.index, :]\n",
    "    df = backtest_it(price_mat, factor_mat.shift(-1), 19871130, 20161230, 1, 0)\n",
    "    df['date'] = pd.to_datetime(df.index, format = '%Y%m%d')\n",
    "    df.set_index('date', inplace = True)\n",
    "    df.to_csv(f'{file_name}_backtest.csv')"
   ]
  },
  {
   "cell_type": "code",
   "execution_count": 7,
   "id": "aa31b3f6-cf5f-4511-88cc-f4ab79aee095",
   "metadata": {},
   "outputs": [],
   "source": [
    "for i in range(1, 7):\n",
    "    file_name = f'y_pred/QAE/K{i}'\n",
    "    factor_mat = pd.read_csv(f'{file_name}.csv', index_col = 'date')\n",
    "    price_mat = price_mat.loc[factor_mat.index, :]\n",
    "    df = backtest_it(price_mat, factor_mat.shift(-1), 19871130, 20161230, 1, 0)\n",
    "    df['date'] = pd.to_datetime(df.index, format = '%Y%m%d')\n",
    "    df.set_index('date', inplace = True)\n",
    "    df.to_csv(f'{file_name}_backtest.csv')"
   ]
  },
  {
   "cell_type": "code",
   "execution_count": 8,
   "id": "ae928a88-5fa9-41af-9502-1050122260e0",
   "metadata": {},
   "outputs": [],
   "source": [
    "for i in range(1, 7):\n",
    "    file_name = f'y_pred/QVAE/K{i}'\n",
    "    factor_mat = pd.read_csv(f'{file_name}.csv', index_col = 'date')\n",
    "    price_mat = price_mat.loc[factor_mat.index, :]\n",
    "    df = backtest_it(price_mat, factor_mat.shift(-1), 19871130, 20161230, 1, 0)\n",
    "    df['date'] = pd.to_datetime(df.index, format = '%Y%m%d')\n",
    "    df.set_index('date', inplace = True)\n",
    "    df.to_csv(f'{file_name}_backtest.csv')"
   ]
  }
 ],
 "metadata": {
  "interpreter": {
   "hash": "c9a7173eeb8052d1458e8817087213c5ec04757add6840991b87bde09da78a31"
  },
  "kernelspec": {
   "display_name": "QAE",
   "language": "python",
   "name": "qae"
  },
  "language_info": {
   "codemirror_mode": {
    "name": "ipython",
    "version": 3
   },
   "file_extension": ".py",
   "mimetype": "text/x-python",
   "name": "python",
   "nbconvert_exporter": "python",
   "pygments_lexer": "ipython3",
   "version": "3.9.10"
  }
 },
 "nbformat": 4,
 "nbformat_minor": 5
}
